{
 "cells": [
  {
   "cell_type": "code",
   "execution_count": 7,
   "id": "f8f25a5f",
   "metadata": {},
   "outputs": [],
   "source": [
    "# attempt at Optional PyRamen challenge"
   ]
  },
  {
   "cell_type": "code",
   "execution_count": 6,
   "id": "d817ae8c",
   "metadata": {},
   "outputs": [
    {
     "ename": "NameError",
     "evalue": "name 'menu_filepath' is not defined",
     "output_type": "error",
     "traceback": [
      "\u001b[0;31m---------------------------------------------------------------------------\u001b[0m",
      "\u001b[0;31mNameError\u001b[0m                                 Traceback (most recent call last)",
      "Input \u001b[0;32mIn [6]\u001b[0m, in \u001b[0;36m<cell line: 5>\u001b[0;34m()\u001b[0m\n\u001b[1;32m      2\u001b[0m sales \u001b[38;5;241m=\u001b[39m []\n\u001b[1;32m      4\u001b[0m \u001b[38;5;66;03m# Read in the menu data into the menu list\u001b[39;00m\n\u001b[0;32m----> 5\u001b[0m \u001b[38;5;28;01mwith\u001b[39;00m \u001b[38;5;28mopen\u001b[39m(\u001b[43mmenu_filepath\u001b[49m) \u001b[38;5;28;01mas\u001b[39;00m menu_file:\n\u001b[1;32m      6\u001b[0m     reader \u001b[38;5;241m=\u001b[39m csv\u001b[38;5;241m.\u001b[39mreader(menu_file)\n\u001b[1;32m      8\u001b[0m     \u001b[38;5;66;03m# Skip header of menu data\u001b[39;00m\n",
      "\u001b[0;31mNameError\u001b[0m: name 'menu_filepath' is not defined"
     ]
    }
   ],
   "source": [
    "from pathlib import Path\n",
    "import csv\n",
    "\n",
    "menu = []\n",
    "sales = []\n",
    "\n",
    "# Read in the menu data into the menu list\n",
    "csvPath = Path(\"Resources/menu_data.csv\")\n",
    "with open(csvPath, \"r\") as menu_data:\n",
    "    reader = csv.reader(menu_data)\n",
    "    next(reader)\n",
    "\n",
    "    # Iterate over each row after the header\n",
    "    for row in reader:\n",
    "        menu.append(row)\n",
    "\n",
    "# Read in the sales data into the menu list\n",
    "csvPath = Path(\"Resources/menu_data.csv\")\n",
    "with open(csvPath, \"r\") as menu_data:\n",
    "    reader = csv.reader(menu_data)\n",
    "    next(reader)\n",
    "\n",
    "    # Iterate over each row after the header\n",
    "    for row in reader:\n",
    "        menu.append(row)"
   ]
  },
  {
   "cell_type": "code",
   "execution_count": null,
   "id": "86c25e3a",
   "metadata": {},
   "outputs": [],
   "source": []
  }
 ],
 "metadata": {
  "kernelspec": {
   "display_name": "Python 3 (ipykernel)",
   "language": "python",
   "name": "python3"
  },
  "language_info": {
   "codemirror_mode": {
    "name": "ipython",
    "version": 3
   },
   "file_extension": ".py",
   "mimetype": "text/x-python",
   "name": "python",
   "nbconvert_exporter": "python",
   "pygments_lexer": "ipython3",
   "version": "3.9.12"
  }
 },
 "nbformat": 4,
 "nbformat_minor": 5
}
