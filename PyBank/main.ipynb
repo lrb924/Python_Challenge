{
 "cells": [
  {
   "cell_type": "code",
   "execution_count": 31,
   "id": "b9e05a47",
   "metadata": {},
   "outputs": [],
   "source": [
    "# import csv and read without the header\n",
    "from pathlib import Path\n",
    "import csv\n",
    "csvPath = Path(\"budget_data.csv\")\n",
    "with open(csvPath, \"r\") as budget_data:\n",
    "    budget_data_header = next(budget_data)\n",
    "    budget_data_reader = budget_data.read().split(\"\\n\")"
   ]
  },
  {
   "cell_type": "code",
   "execution_count": 32,
   "id": "d3367e56",
   "metadata": {},
   "outputs": [],
   "source": [
    "# convert budget_data_reader list into a dict, and change the values into integers\n",
    "budget_data_dict = {}\n",
    "for item in budget_data_reader:\n",
    "    if \",\" in item:\n",
    "        key, value = item.split(\",\")\n",
    "        budget_data_dict[key] = int(value)"
   ]
  },
  {
   "cell_type": "code",
   "execution_count": 33,
   "id": "3f3e51e1",
   "metadata": {},
   "outputs": [],
   "source": [
    "# count the number of months in the data, which is also the number of keys, and also change the months into a list\n",
    "months = len(budget_data_dict.keys())\n",
    "months_list = list(budget_data_dict.keys())"
   ]
  },
  {
   "cell_type": "code",
   "execution_count": 34,
   "id": "aa053482",
   "metadata": {},
   "outputs": [],
   "source": [
    "# sum of the values (profit or loss) in the dict\n",
    "total_net_profit = sum(budget_data_dict.values())"
   ]
  },
  {
   "cell_type": "code",
   "execution_count": 35,
   "id": "0ec2facc",
   "metadata": {},
   "outputs": [],
   "source": [
    "# change the values in the dict into a list of integers\n",
    "budget_data_values = list(budget_data_dict.values())"
   ]
  },
  {
   "cell_type": "code",
   "execution_count": 36,
   "id": "37d9e3ba",
   "metadata": {},
   "outputs": [],
   "source": [
    "# average change\n",
    "budget_data_values_change = []\n",
    "for x in range(len(budget_data_values)-1):\n",
    "    list1 = budget_data_values[x]\n",
    "    list2 = budget_data_values[x+1]\n",
    "    budget_data_values_change.append(list2 - list1)\n",
    "average_change = round(float(sum(budget_data_values_change))/(len(budget_data_values_change)),2)"
   ]
  },
  {
   "cell_type": "code",
   "execution_count": 37,
   "id": "3cebbfa2",
   "metadata": {},
   "outputs": [],
   "source": [
    "# max increase value\n",
    "max_increase_value = max(budget_data_values_change)\n",
    "\n",
    "# max increase month\n",
    "budget_data_values_change.index(max_increase_value)\n",
    "max_increase_month = months_list[budget_data_values_change.index(max(budget_data_values_change))+1]"
   ]
  },
  {
   "cell_type": "code",
   "execution_count": 38,
   "id": "52309596",
   "metadata": {},
   "outputs": [],
   "source": [
    "# min increase value\n",
    "min_increase_value = min(budget_data_values_change)\n",
    "\n",
    "# min increase month\n",
    "budget_data_values_change.index(min_increase_value)\n",
    "min_increase_month = months_list[budget_data_values_change.index(min(budget_data_values_change))+1]"
   ]
  },
  {
   "cell_type": "code",
   "execution_count": 41,
   "id": "4ca96d28",
   "metadata": {},
   "outputs": [],
   "source": [
    "# output findings to Analysis\n",
    "outputPath = Path(\"Analysis.txt\")\n",
    "with open(outputPath, \"w\") as analysis:\n",
    "    analysis.write(f\"Financial Analysis\\n\\n----------------------------\\n\\nTotal Months: {months}\\n\\nTotal: ${total_net_profit} \\n\\nAverage Change: ${average_change}\\n\\nGreatest Increase in Profits: {max_increase_month} (${max_increase_value})\\n\\nGreatest Decrease in Profits: {min_increase_month} (${min_increase_value})\")"
   ]
  }
 ],
 "metadata": {
  "kernelspec": {
   "display_name": "Python 3 (ipykernel)",
   "language": "python",
   "name": "python3"
  },
  "language_info": {
   "codemirror_mode": {
    "name": "ipython",
    "version": 3
   },
   "file_extension": ".py",
   "mimetype": "text/x-python",
   "name": "python",
   "nbconvert_exporter": "python",
   "pygments_lexer": "ipython3",
   "version": "3.9.12"
  }
 },
 "nbformat": 4,
 "nbformat_minor": 5
}
