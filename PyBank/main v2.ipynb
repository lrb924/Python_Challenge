{
 "cells": [
  {
   "cell_type": "code",
   "execution_count": 170,
   "id": "3fde40e4",
   "metadata": {
    "scrolled": true
   },
   "outputs": [
    {
     "data": {
      "text/plain": [
       "'/Users/larabarger/Desktop/Bootcamp/Module 2/python-challenge/PyBank'"
      ]
     },
     "execution_count": 170,
     "metadata": {},
     "output_type": "execute_result"
    }
   ],
   "source": [
    "pwd"
   ]
  },
  {
   "cell_type": "code",
   "execution_count": 173,
   "id": "c165b451",
   "metadata": {},
   "outputs": [
    {
     "data": {
      "text/plain": [
       "pathlib.Path"
      ]
     },
     "execution_count": 173,
     "metadata": {},
     "output_type": "execute_result"
    }
   ],
   "source": [
    "Path"
   ]
  },
  {
   "cell_type": "code",
   "execution_count": 174,
   "id": "f3f779ee",
   "metadata": {},
   "outputs": [],
   "source": [
    "from pathlib import Path\n",
    "import csv\n",
    "csvPath = Path(\"../../Challenge Files/PyBank/Resources/budget_data.csv\")\n",
    "with open(csvPath, \"r\") as budget_data:\n",
    "    budget_data_header = next(budget_data)\n",
    "    budget_data_reader = budget_data.read()\n",
    "months = budget_data_reader.count(\"\\n\")"
   ]
  },
  {
   "cell_type": "code",
   "execution_count": 135,
   "id": "aaf899b6",
   "metadata": {
    "scrolled": true
   },
   "outputs": [
    {
     "ename": "ValueError",
     "evalue": "not enough values to unpack (expected 2, got 1)",
     "output_type": "error",
     "traceback": [
      "\u001b[0;31m---------------------------------------------------------------------------\u001b[0m",
      "\u001b[0;31mValueError\u001b[0m                                Traceback (most recent call last)",
      "Input \u001b[0;32mIn [135]\u001b[0m, in \u001b[0;36m<cell line: 2>\u001b[0;34m()\u001b[0m\n\u001b[1;32m      2\u001b[0m \u001b[38;5;28;01mfor\u001b[39;00m line \u001b[38;5;129;01min\u001b[39;00m budget_data_reader:\n\u001b[1;32m      3\u001b[0m     line \u001b[38;5;241m=\u001b[39m line\u001b[38;5;241m.\u001b[39mstrip(\u001b[38;5;124m\"\u001b[39m\u001b[38;5;130;01m\\n\u001b[39;00m\u001b[38;5;124m\"\u001b[39m)\n\u001b[0;32m----> 4\u001b[0m     key, value \u001b[38;5;241m=\u001b[39m line\u001b[38;5;241m.\u001b[39msplit(\u001b[38;5;124m\"\u001b[39m\u001b[38;5;124m,\u001b[39m\u001b[38;5;124m\"\u001b[39m)\n\u001b[1;32m      5\u001b[0m     budget_data_dict[key] \u001b[38;5;241m=\u001b[39m value\n\u001b[1;32m      7\u001b[0m \u001b[38;5;28mprint\u001b[39m(budget_data_dict)\n",
      "\u001b[0;31mValueError\u001b[0m: not enough values to unpack (expected 2, got 1)"
     ]
    }
   ],
   "source": [
    "budget_data_dict = dict()\n",
    "for line in budget_data_reader:\n",
    "    line = line.strip(\"\\n\")\n",
    "    key, value = line.split(\",\")\n",
    "    budget_data_dict[key] = value\n",
    "\n",
    "print(budget_data_dict)"
   ]
  },
  {
   "cell_type": "code",
   "execution_count": 169,
   "id": "22c7aadd",
   "metadata": {},
   "outputs": [
    {
     "name": "stdout",
     "output_type": "stream",
     "text": [
      "16\n",
      "18\n",
      "10\n",
      "11\n",
      "\n",
      "16\n"
     ]
    }
   ],
   "source": [
    "\n",
    "for i in [6,8,0,1]:\n",
    "    print(i+10)\n",
    "    \n",
    "print()\n",
    "print(6+10)"
   ]
  },
  {
   "cell_type": "code",
   "execution_count": 150,
   "id": "c30d97f9",
   "metadata": {},
   "outputs": [
    {
     "data": {
      "text/plain": [
       "['apple', 'orange', 'movie', 'pen', 'pineapple', 'deeplearning']"
      ]
     },
     "execution_count": 150,
     "metadata": {},
     "output_type": "execute_result"
    }
   ],
   "source": [
    "my_text='apple<orange<movie<pen<pineapple<deeplearning'\n",
    "my_text.split(\"<\")"
   ]
  },
  {
   "cell_type": "code",
   "execution_count": 161,
   "id": "46ec396b",
   "metadata": {},
   "outputs": [
    {
     "data": {
      "text/plain": [
       "['Apr-2010', '-69417']"
      ]
     },
     "execution_count": 161,
     "metadata": {},
     "output_type": "execute_result"
    }
   ],
   "source": [
    "budget_data_reader.split('\\n')[3].split(\",\")"
   ]
  },
  {
   "cell_type": "code",
   "execution_count": 156,
   "id": "17cd8d8b",
   "metadata": {},
   "outputs": [
    {
     "name": "stdout",
     "output_type": "stream",
     "text": [
      "Jan-2010\n",
      "867884\n"
     ]
    }
   ],
   "source": [
    "pen = budget_data_reader.split('\\n')[0].split(\",\")\n",
    "\n",
    "my_key = pen[0]\n",
    "my_val = pen[1]\n",
    "\n",
    "print(my_key)\n",
    "print(my_val)"
   ]
  },
  {
   "cell_type": "code",
   "execution_count": 158,
   "id": "bd86dd53",
   "metadata": {},
   "outputs": [
    {
     "ename": "AttributeError",
     "evalue": "'list' object has no attribute 'split'",
     "output_type": "error",
     "traceback": [
      "\u001b[0;31m---------------------------------------------------------------------------\u001b[0m",
      "\u001b[0;31mAttributeError\u001b[0m                            Traceback (most recent call last)",
      "Input \u001b[0;32mIn [158]\u001b[0m, in \u001b[0;36m<cell line: 1>\u001b[0;34m()\u001b[0m\n\u001b[0;32m----> 1\u001b[0m \u001b[43mbudget_data_reader\u001b[49m\u001b[38;5;241;43m.\u001b[39;49m\u001b[43msplit\u001b[49m\u001b[43m(\u001b[49m\u001b[38;5;124;43m'\u001b[39;49m\u001b[38;5;130;43;01m\\n\u001b[39;49;00m\u001b[38;5;124;43m'\u001b[39;49m\u001b[43m)\u001b[49m\u001b[43m[\u001b[49m\u001b[43m:\u001b[49m\u001b[38;5;241;43m5\u001b[39;49m\u001b[43m]\u001b[49m\u001b[38;5;241;43m.\u001b[39;49m\u001b[43msplit\u001b[49m(\u001b[38;5;124m\"\u001b[39m\u001b[38;5;124m,\u001b[39m\u001b[38;5;124m\"\u001b[39m)\n",
      "\u001b[0;31mAttributeError\u001b[0m: 'list' object has no attribute 'split'"
     ]
    }
   ],
   "source": [
    "budget_data_reader.split('\\n')[:5].split(\",\")"
   ]
  },
  {
   "cell_type": "code",
   "execution_count": 175,
   "id": "40d7f0b0",
   "metadata": {},
   "outputs": [
    {
     "data": {
      "text/plain": [
       "'Jan-2010,867884\\nFeb-2010,984655\\nMar-2010,322013\\nApr-2010,-69417\\nMay-2010,310503\\nJun-2010,522857\\nJul-2010,1033096\\nAug-2010,604885\\nSep-2010,-216386\\nOct-2010,477532\\nNov-2010,893810\\nDec-2010,-80353\\nJan-2011,779806\\nFeb-2011,-335203\\nMar-2011,697845\\nApr-2011,793163\\nMay-2011,485070\\nJun-2011,584122\\nJul-2011,62729\\nAug-2011,668179\\nSep-2011,899906\\nOct-2011,834719\\nNov-2011,132003\\nDec-2011,309978\\nJan-2012,-755566\\nFeb-2012,1170593\\nMar-2012,252788\\nApr-2012,1151518\\nMay-2012,817256\\nJun-2012,570757\\nJul-2012,506702\\nAug-2012,-1022534\\nSep-2012,475062\\nOct-2012,779976\\nNov-2012,144175\\nDec-2012,542494\\nJan-2013,359333\\nFeb-2013,321469\\nMar-2013,67780\\nApr-2013,471435\\nMay-2013,565603\\nJun-2013,872480\\nJul-2013,789480\\nAug-2013,999942\\nSep-2013,-1196225\\nOct-2013,268997\\nNov-2013,-687986\\nDec-2013,1150461\\nJan-2014,682458\\nFeb-2014,617856\\nMar-2014,824098\\nApr-2014,581943\\nMay-2014,132864\\nJun-2014,448062\\nJul-2014,689161\\nAug-2014,800701\\nSep-2014,1166643\\nOct-2014,947333\\nNov-2014,578668\\nDec-2014,988505\\nJan-2015,1139715\\nFeb-2015,1029471\\nMar-2015,687533\\nApr-2015,-524626\\nMay-2015,158620\\nJun-2015,87795\\nJul-2015,423389\\nAug-2015,840723\\nSep-2015,568529\\nOct-2015,332067\\nNov-2015,989499\\nDec-2015,778237\\nJan-2016,650000\\nFeb-2016,-1100387\\nMar-2016,-174946\\nApr-2016,757143\\nMay-2016,445709\\nJun-2016,712961\\nJul-2016,-1163797\\nAug-2016,569899\\nSep-2016,768450\\nOct-2016,102685\\nNov-2016,795914\\nDec-2016,60988\\nJan-2017,138230\\nFeb-2017,671099\\n'"
      ]
     },
     "execution_count": 175,
     "metadata": {},
     "output_type": "execute_result"
    }
   ],
   "source": [
    "budget_data_reader"
   ]
  },
  {
   "cell_type": "code",
   "execution_count": null,
   "id": "ccfe2663",
   "metadata": {},
   "outputs": [],
   "source": [
    "total_profit_loss = budget_data_reader"
   ]
  },
  {
   "cell_type": "code",
   "execution_count": 137,
   "id": "9ab8be1e",
   "metadata": {},
   "outputs": [
    {
     "data": {
      "text/plain": [
       "86"
      ]
     },
     "execution_count": 137,
     "metadata": {},
     "output_type": "execute_result"
    }
   ],
   "source": [
    "months"
   ]
  },
  {
   "cell_type": "code",
   "execution_count": null,
   "id": "07257431",
   "metadata": {},
   "outputs": [],
   "source": [
    "### Keep the below!!!"
   ]
  },
  {
   "cell_type": "code",
   "execution_count": 176,
   "id": "06c00d1c",
   "metadata": {},
   "outputs": [],
   "source": [
    "outputPath = Path(\"Analysis.txt\")\n",
    "with open(outputPath, \"w\") as analysis:\n",
    "    analysis.write(f\"Financial Analysis\\n\\n-------------------\\n\\nTotal Months: {months}\\n\\nTotal: \\n\\nAverage Change: \\n\\nGreatest Incr in Profits: \\n\\nGreatest Decr in Profits: \")"
   ]
  },
  {
   "cell_type": "code",
   "execution_count": 131,
   "id": "19a02d6e",
   "metadata": {
    "scrolled": true
   },
   "outputs": [
    {
     "ename": "ValueError",
     "evalue": "not enough values to unpack (expected 2, got 1)",
     "output_type": "error",
     "traceback": [
      "\u001b[0;31m---------------------------------------------------------------------------\u001b[0m",
      "\u001b[0;31mValueError\u001b[0m                                Traceback (most recent call last)",
      "Input \u001b[0;32mIn [131]\u001b[0m, in \u001b[0;36m<cell line: 2>\u001b[0;34m()\u001b[0m\n\u001b[1;32m      2\u001b[0m \u001b[38;5;28;01mfor\u001b[39;00m line \u001b[38;5;129;01min\u001b[39;00m budget_data_reader:\n\u001b[1;32m      3\u001b[0m     line \u001b[38;5;241m=\u001b[39m line\u001b[38;5;241m.\u001b[39mstrip(\u001b[38;5;124m\"\u001b[39m\u001b[38;5;130;01m\\n\u001b[39;00m\u001b[38;5;124m\"\u001b[39m)\n\u001b[0;32m----> 4\u001b[0m     key,value \u001b[38;5;241m=\u001b[39m line\u001b[38;5;241m.\u001b[39msplit(\u001b[38;5;124m\"\u001b[39m\u001b[38;5;124m,\u001b[39m\u001b[38;5;124m\"\u001b[39m)\n\u001b[1;32m      5\u001b[0m budget_data_dict[key] \u001b[38;5;241m=\u001b[39m \u001b[38;5;28mint\u001b[39m(value)\n\u001b[1;32m      7\u001b[0m \u001b[38;5;28;01mreturn\u001b[39;00m budget_data_dict\n",
      "\u001b[0;31mValueError\u001b[0m: not enough values to unpack (expected 2, got 1)"
     ]
    }
   ],
   "source": [
    "budget_data_dict = dict()\n",
    "for line in budget_data_reader:\n",
    "    line = line.strip(\"\\n\")\n",
    "    key,value = line.split(\",\")\n",
    "    budget_data_dict[key] = int(value)\n",
    "\n",
    "return budget_data_dict"
   ]
  },
  {
   "cell_type": "code",
   "execution_count": 118,
   "id": "d0c6868b",
   "metadata": {},
   "outputs": [
    {
     "ename": "NameError",
     "evalue": "name 'reader' is not defined",
     "output_type": "error",
     "traceback": [
      "\u001b[0;31m---------------------------------------------------------------------------\u001b[0m",
      "\u001b[0;31mNameError\u001b[0m                                 Traceback (most recent call last)",
      "Input \u001b[0;32mIn [118]\u001b[0m, in \u001b[0;36m<cell line: 2>\u001b[0;34m()\u001b[0m\n\u001b[1;32m      1\u001b[0m d \u001b[38;5;241m=\u001b[39m {}\n\u001b[0;32m----> 2\u001b[0m \u001b[38;5;28;01mfor\u001b[39;00m row \u001b[38;5;129;01min\u001b[39;00m \u001b[43mreader\u001b[49m:\n\u001b[1;32m      3\u001b[0m    k, v \u001b[38;5;241m=\u001b[39m row\n\u001b[1;32m      4\u001b[0m    d[k] \u001b[38;5;241m=\u001b[39m v\n",
      "\u001b[0;31mNameError\u001b[0m: name 'reader' is not defined"
     ]
    }
   ],
   "source": [
    "d = {}\n",
    "for row in reader:\n",
    "   k, v = row\n",
    "   d[k] = v"
   ]
  },
  {
   "cell_type": "code",
   "execution_count": 98,
   "id": "600dc8f6",
   "metadata": {},
   "outputs": [
    {
     "data": {
      "text/plain": [
       "dict"
      ]
     },
     "execution_count": 98,
     "metadata": {},
     "output_type": "execute_result"
    }
   ],
   "source": [
    "type(d)"
   ]
  },
  {
   "cell_type": "code",
   "execution_count": 99,
   "id": "ba1b2aab",
   "metadata": {},
   "outputs": [
    {
     "data": {
      "text/plain": [
       "dict_keys(['Date', 'Jan-2010', 'Feb-2010', 'Mar-2010', 'Apr-2010', 'May-2010', 'Jun-2010', 'Jul-2010', 'Aug-2010', 'Sep-2010', 'Oct-2010', 'Nov-2010', 'Dec-2010', 'Jan-2011', 'Feb-2011', 'Mar-2011', 'Apr-2011', 'May-2011', 'Jun-2011', 'Jul-2011', 'Aug-2011', 'Sep-2011', 'Oct-2011', 'Nov-2011', 'Dec-2011', 'Jan-2012', 'Feb-2012', 'Mar-2012', 'Apr-2012', 'May-2012', 'Jun-2012', 'Jul-2012', 'Aug-2012', 'Sep-2012', 'Oct-2012', 'Nov-2012', 'Dec-2012', 'Jan-2013', 'Feb-2013', 'Mar-2013', 'Apr-2013', 'May-2013', 'Jun-2013', 'Jul-2013', 'Aug-2013', 'Sep-2013', 'Oct-2013', 'Nov-2013', 'Dec-2013', 'Jan-2014', 'Feb-2014', 'Mar-2014', 'Apr-2014', 'May-2014', 'Jun-2014', 'Jul-2014', 'Aug-2014', 'Sep-2014', 'Oct-2014', 'Nov-2014', 'Dec-2014', 'Jan-2015', 'Feb-2015', 'Mar-2015', 'Apr-2015', 'May-2015', 'Jun-2015', 'Jul-2015', 'Aug-2015', 'Sep-2015', 'Oct-2015', 'Nov-2015', 'Dec-2015', 'Jan-2016', 'Feb-2016', 'Mar-2016', 'Apr-2016', 'May-2016', 'Jun-2016', 'Jul-2016', 'Aug-2016', 'Sep-2016', 'Oct-2016', 'Nov-2016', 'Dec-2016', 'Jan-2017', 'Feb-2017'])"
      ]
     },
     "execution_count": 99,
     "metadata": {},
     "output_type": "execute_result"
    }
   ],
   "source": [
    "d.keys()"
   ]
  },
  {
   "cell_type": "code",
   "execution_count": 101,
   "id": "a88df9cf",
   "metadata": {},
   "outputs": [
    {
     "data": {
      "text/plain": [
       "87"
      ]
     },
     "execution_count": 101,
     "metadata": {},
     "output_type": "execute_result"
    }
   ],
   "source": [
    "len(d.keys())"
   ]
  },
  {
   "cell_type": "code",
   "execution_count": 102,
   "id": "160d6a79",
   "metadata": {},
   "outputs": [
    {
     "data": {
      "text/plain": [
       "dict_values(['Profit/Losses', '867884', '984655', '322013', '-69417', '310503', '522857', '1033096', '604885', '-216386', '477532', '893810', '-80353', '779806', '-335203', '697845', '793163', '485070', '584122', '62729', '668179', '899906', '834719', '132003', '309978', '-755566', '1170593', '252788', '1151518', '817256', '570757', '506702', '-1022534', '475062', '779976', '144175', '542494', '359333', '321469', '67780', '471435', '565603', '872480', '789480', '999942', '-1196225', '268997', '-687986', '1150461', '682458', '617856', '824098', '581943', '132864', '448062', '689161', '800701', '1166643', '947333', '578668', '988505', '1139715', '1029471', '687533', '-524626', '158620', '87795', '423389', '840723', '568529', '332067', '989499', '778237', '650000', '-1100387', '-174946', '757143', '445709', '712961', '-1163797', '569899', '768450', '102685', '795914', '60988', '138230', '671099'])"
      ]
     },
     "execution_count": 102,
     "metadata": {},
     "output_type": "execute_result"
    }
   ],
   "source": [
    "d.values()"
   ]
  },
  {
   "cell_type": "code",
   "execution_count": 103,
   "id": "8b2912de",
   "metadata": {},
   "outputs": [
    {
     "data": {
      "text/plain": [
       "87"
      ]
     },
     "execution_count": 103,
     "metadata": {},
     "output_type": "execute_result"
    }
   ],
   "source": [
    "len(d.values())"
   ]
  },
  {
   "cell_type": "code",
   "execution_count": null,
   "id": "1618ba7d",
   "metadata": {},
   "outputs": [],
   "source": []
  }
 ],
 "metadata": {
  "kernelspec": {
   "display_name": "Python 3 (ipykernel)",
   "language": "python",
   "name": "python3"
  },
  "language_info": {
   "codemirror_mode": {
    "name": "ipython",
    "version": 3
   },
   "file_extension": ".py",
   "mimetype": "text/x-python",
   "name": "python",
   "nbconvert_exporter": "python",
   "pygments_lexer": "ipython3",
   "version": "3.9.12"
  }
 },
 "nbformat": 4,
 "nbformat_minor": 5
}
